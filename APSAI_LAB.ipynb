{
 "cells": [
  {
   "cell_type": "markdown",
   "id": "a27069d6",
   "metadata": {},
   "source": [
    "#                                          <center>EXPERIMENT-1</center>"
   ]
  },
  {
   "cell_type": "markdown",
   "id": "ccd17be5",
   "metadata": {},
   "source": [
    "# Q1. Write a program to implement Breadth First Search using python.\n"
   ]
  },
  {
   "cell_type": "code",
   "execution_count": 1,
   "id": "7c4cb7ca",
   "metadata": {},
   "outputs": [
    {
     "name": "stdout",
     "output_type": "stream",
     "text": [
      "Following is the Breadth-First Search\n",
      "5 3 7 2 4 8 "
     ]
    }
   ],
   "source": [
    "graph = {\n",
    "  '5' : ['3','7'],\n",
    "  '3' : ['2', '4'],\n",
    "  '7' : ['8'],\n",
    "  '2' : [],\n",
    "  '4' : ['8'],\n",
    "  '8' : []\n",
    "}\n",
    "\n",
    "visited = [] # List for visited nodes.\n",
    "queue = []     #Initialize a queue\n",
    "\n",
    "def bfs(visited, graph, node): #function for BFS\n",
    "  visited.append(node)\n",
    "  queue.append(node)\n",
    "\n",
    "  while queue:          # Creating loop to visit each node\n",
    "    m = queue.pop(0) \n",
    "    print (m, end = \" \") \n",
    "\n",
    "    for neighbour in graph[m]:\n",
    "      if neighbour not in visited:\n",
    "        visited.append(neighbour)\n",
    "        queue.append(neighbour)\n",
    "\n",
    "# Driver Code\n",
    "print(\"Following is the Breadth-First Search\")\n",
    "bfs(visited, graph, '5')    # function calling\n"
   ]
  },
  {
   "cell_type": "markdown",
   "id": "9ef52d6a",
   "metadata": {},
   "source": [
    "#                                          <center>EXPERIMENT-2</center>"
   ]
  },
  {
   "cell_type": "markdown",
   "id": "e9659a25",
   "metadata": {},
   "source": [
    "# Q2. Write a program to implement Depth First Search using python.\n"
   ]
  },
  {
   "cell_type": "code",
   "execution_count": 2,
   "id": "a38c4163",
   "metadata": {},
   "outputs": [
    {
     "name": "stdout",
     "output_type": "stream",
     "text": [
      "Following is the Depth-First Search\n",
      "5\n",
      "3\n",
      "2\n",
      "4\n",
      "8\n",
      "7\n"
     ]
    }
   ],
   "source": [
    "# Using a Python dictionary to act as an adjacency list\n",
    "graph = {\n",
    "  '5' : ['3','7'],\n",
    "  '3' : ['2', '4'],\n",
    "  '7' : ['8'],\n",
    "  '2' : [],\n",
    "  '4' : ['8'],\n",
    "  '8' : []\n",
    "   \n",
    "}\n",
    "\n",
    "visited = set() # Set to keep track of visited nodes of graph.\n",
    "\n",
    "def dfs(visited, graph, node):  #function for dfs \n",
    "    if node not in visited:\n",
    "        print (node)\n",
    "        visited.add(node)\n",
    "        for neighbour in graph[node]:\n",
    "            dfs(visited, graph, neighbour)\n",
    "\n",
    "# Driver Code\n",
    "print(\"Following is the Depth-First Search\")\n",
    "dfs(visited, graph, '5')\n"
   ]
  },
  {
   "cell_type": "markdown",
   "id": "25f01d22",
   "metadata": {},
   "source": [
    "#                                          <center>EXPERIMENT-3</center>"
   ]
  },
  {
   "cell_type": "markdown",
   "id": "19904387",
   "metadata": {},
   "source": [
    "# Q3.Write a program to implement hill climbing using python.\n"
   ]
  },
  {
   "cell_type": "code",
   "execution_count": 3,
   "id": "83a31bd0",
   "metadata": {},
   "outputs": [
    {
     "name": "stdout",
     "output_type": "stream",
     "text": [
      "([0, 3, 2, 1], 1400)\n"
     ]
    }
   ],
   "source": [
    "import random\n",
    "\n",
    "def randomSolution(tsp):\n",
    "    cities = list(range(len(tsp)))\n",
    "    solution = []\n",
    "\n",
    "    for i in range(len(tsp)):\n",
    "        randomCity = cities[random.randint(0, len(cities) - 1)]\n",
    "        solution.append(randomCity)\n",
    "        cities.remove(randomCity)\n",
    "\n",
    "    return solution\n",
    "\n",
    "def routeLength(tsp, solution):\n",
    "    routeLength = 0\n",
    "    for i in range(len(solution)):\n",
    "        routeLength += tsp[solution[i - 1]][solution[i]]\n",
    "    return routeLength\n",
    "\n",
    "def getNeighbours(solution):\n",
    "    neighbours = []\n",
    "    for i in range(len(solution)):\n",
    "        for j in range(i + 1, len(solution)):\n",
    "            neighbour = solution.copy()\n",
    "            neighbour[i] = solution[j]\n",
    "            neighbour[j] = solution[i]\n",
    "            neighbours.append(neighbour)\n",
    "    return neighbours\n",
    "\n",
    "def getBestNeighbour(tsp, neighbours):\n",
    "    bestRouteLength = routeLength(tsp, neighbours[0])\n",
    "    bestNeighbour = neighbours[0]\n",
    "    for neighbour in neighbours:\n",
    "        currentRouteLength = routeLength(tsp, neighbour)\n",
    "        if currentRouteLength < bestRouteLength:\n",
    "            bestRouteLength = currentRouteLength\n",
    "            bestNeighbour = neighbour\n",
    "    return bestNeighbour, bestRouteLength\n",
    "\n",
    "def hillClimbing(tsp):\n",
    "    currentSolution = randomSolution(tsp)\n",
    "    currentRouteLength = routeLength(tsp, currentSolution)\n",
    "    neighbours = getNeighbours(currentSolution)\n",
    "    bestNeighbour, bestNeighbourRouteLength = getBestNeighbour(tsp, neighbours)\n",
    "\n",
    "    while bestNeighbourRouteLength < currentRouteLength:\n",
    "        currentSolution = bestNeighbour\n",
    "        currentRouteLength = bestNeighbourRouteLength\n",
    "        neighbours = getNeighbours(currentSolution)\n",
    "        bestNeighbour, bestNeighbourRouteLength = getBestNeighbour(tsp, neighbours)\n",
    "\n",
    "    return currentSolution, currentRouteLength\n",
    "\n",
    "def main():\n",
    "    tsp = [\n",
    "        [0, 400, 500, 300],\n",
    "        [400, 0, 300, 500],\n",
    "        [500, 300, 0, 400],\n",
    "        [300, 500, 400, 0]\n",
    "    ]\n",
    "\n",
    "    print(hillClimbing(tsp))\n",
    "\n",
    "if __name__ == \"__main__\":\n",
    "    main()\n"
   ]
  },
  {
   "cell_type": "markdown",
   "id": "345cf11b",
   "metadata": {},
   "source": [
    "#                                          <center>EXPERIMENT-4</center>"
   ]
  },
  {
   "cell_type": "markdown",
   "id": "d59cdb71",
   "metadata": {},
   "source": [
    "# Q4.Write a program to implement A* using python.\n"
   ]
  },
  {
   "cell_type": "code",
   "execution_count": 4,
   "id": "573634e9",
   "metadata": {},
   "outputs": [
    {
     "name": "stdout",
     "output_type": "stream",
     "text": [
      "Path found: ['A', 'B', 'D']\n"
     ]
    },
    {
     "data": {
      "text/plain": [
       "['A', 'B', 'D']"
      ]
     },
     "execution_count": 4,
     "metadata": {},
     "output_type": "execute_result"
    }
   ],
   "source": [
    "from collections import deque\n",
    "\n",
    "class Graph:\n",
    "\n",
    "    def __init__(self, adjacency_list):\n",
    "        self.adjacency_list = adjacency_list\n",
    "\n",
    "    def get_neighbors(self, v):\n",
    "        return self.adjacency_list[v]\n",
    "\n",
    "    def h(self, n):\n",
    "        H = {\n",
    "            'A': 1,\n",
    "            'B': 1,\n",
    "            'C': 1,\n",
    "            'D': 1\n",
    "        }\n",
    "\n",
    "        return H[n]\n",
    "\n",
    "    def a_star_algorithm(self, start_node, stop_node):\n",
    "        open_list = set([start_node])\n",
    "        closed_list = set([])\n",
    "\n",
    "        g = {}\n",
    "\n",
    "        g[start_node] = 0\n",
    "\n",
    "        parents = {}\n",
    "        parents[start_node] = start_node\n",
    "\n",
    "        while len(open_list) > 0:\n",
    "            n = None\n",
    "\n",
    "            for v in open_list:\n",
    "                if n == None or g[v] + self.h(v) < g[n] + self.h(n):\n",
    "                    n = v;\n",
    "\n",
    "            if n == None:\n",
    "                print('Path does not exist!')\n",
    "                return None\n",
    "\n",
    "        \n",
    "            if n == stop_node:\n",
    "                reconst_path = []\n",
    "\n",
    "                while parents[n] != n:\n",
    "                    reconst_path.append(n)\n",
    "                    n = parents[n]\n",
    "\n",
    "                reconst_path.append(start_node)\n",
    "\n",
    "                reconst_path.reverse()\n",
    "\n",
    "                print('Path found: {}'.format(reconst_path))\n",
    "                return reconst_path\n",
    "\n",
    "            for (m, weight) in self.get_neighbors(n):\n",
    "                if m not in open_list and m not in closed_list:\n",
    "                    open_list.add(m)\n",
    "                    parents[m] = n\n",
    "                    g[m] = g[n] + weight\n",
    "\n",
    "                \n",
    "                else:\n",
    "                    if g[m] > g[n] + weight:\n",
    "                        g[m] = g[n] + weight\n",
    "                        parents[m] = n\n",
    "\n",
    "                        if m in closed_list:\n",
    "                            closed_list.remove(m)\n",
    "                            open_list.add(m)\n",
    "\n",
    "           \n",
    "            open_list.remove(n)\n",
    "            closed_list.add(n)\n",
    "\n",
    "        print('Path does not exist!')\n",
    "        return None\n",
    "    \n",
    "adjacency_list = {\n",
    "    'A': [('B', 1), ('C', 3), ('D', 7)],\n",
    "    'B': [('D', 5)],\n",
    "    'C': [('D', 12)]\n",
    "}\n",
    "graph1 = Graph(adjacency_list)\n",
    "graph1.a_star_algorithm('A', 'D')    "
   ]
  },
  {
   "cell_type": "markdown",
   "id": "6ce96483",
   "metadata": {},
   "source": [
    "#                                          <center>EXPERIMENT-5</center>"
   ]
  },
  {
   "cell_type": "markdown",
   "id": "cf1a3116",
   "metadata": {},
   "source": [
    "# Q5.Write a program to implement Best first search using python.\n"
   ]
  },
  {
   "cell_type": "code",
   "execution_count": 5,
   "id": "b39dfd4e",
   "metadata": {},
   "outputs": [
    {
     "name": "stdout",
     "output_type": "stream",
     "text": [
      "Path: \n",
      "0 1 0 2 \n"
     ]
    }
   ],
   "source": [
    "from queue import PriorityQueue\n",
    "\n",
    "# Filling adjacency matrix with empty arrays\n",
    "vertices = 14\n",
    "graph = [[] for i in range(vertices)]\n",
    "\n",
    "\n",
    "# Function for adding edges to graph\n",
    "def add_edge(x, y, cost):\n",
    "    graph[x].append((y, cost))\n",
    "    graph[y].append((x, cost))\n",
    "\n",
    "\n",
    "# Function For Implementing Best First Search\n",
    "# Gives output path having the lowest cost\n",
    "def best_first_search(source, target, vertices):\n",
    "    visited = [0] * vertices\n",
    "    pq = PriorityQueue()\n",
    "    pq.put((0, source))\n",
    "    print(\"Path: \")\n",
    "    while not pq.empty():\n",
    "        u = pq.get()[1]\n",
    "        # Displaying the path having the lowest cost\n",
    "        print(u, end=\" \")\n",
    "        if u == target:\n",
    "            break\n",
    "\n",
    "        for v, c in graph[u]:\n",
    "            if not visited[v]:\n",
    "                visited[v] = True\n",
    "                pq.put((c, v))\n",
    "    print()\n",
    "\n",
    "\n",
    "if __name__ == '__main__':\n",
    "    # The nodes shown in above example(by alphabets) are\n",
    "    # implemented using integers add_edge(x,y,cost);\n",
    "    add_edge(0, 1, 1)\n",
    "    add_edge(0, 2, 8)\n",
    "    add_edge(1, 2, 12)\n",
    "    add_edge(1, 4, 13)\n",
    "    add_edge(2, 3, 6)\n",
    "    add_edge(4, 3, 3)\n",
    "\n",
    "    source = 0\n",
    "    target = 2\n",
    "    best_first_search(source, target, vertices)\n"
   ]
  },
  {
   "cell_type": "markdown",
   "id": "9fe9a8aa",
   "metadata": {},
   "source": [
    "#                                          <center>EXPERIMENT-6</center>"
   ]
  },
  {
   "cell_type": "markdown",
   "id": "1b376386",
   "metadata": {},
   "source": [
    "# Q6.Write a program to solve travelling salesman problem using python.\n"
   ]
  },
  {
   "cell_type": "code",
   "execution_count": 6,
   "id": "f1d0e68b",
   "metadata": {},
   "outputs": [
    {
     "name": "stdout",
     "output_type": "stream",
     "text": [
      "80\n"
     ]
    }
   ],
   "source": [
    "from sys import maxsize\n",
    "from itertools import permutations\n",
    "V = 4\n",
    "\n",
    "# implementation of traveling Salesman Problem\n",
    "def travellingSalesmanProblem(graph, s):\n",
    "\n",
    "\t# store all vertex apart from source vertex\n",
    "\tvertex = []\n",
    "\tfor i in range(V):\n",
    "\t\tif i != s:\n",
    "\t\t\tvertex.append(i)\n",
    "\n",
    "\t# store minimum weight Hamiltonian Cycle\n",
    "\tmin_path = maxsize\n",
    "\tnext_permutation=permutations(vertex)\n",
    "\tfor i in next_permutation:\n",
    "\n",
    "\t\t# store current Path weight(cost)\n",
    "\t\tcurrent_pathweight = 0\n",
    "\n",
    "\t\t# compute current path weight\n",
    "\t\tk = s\n",
    "\t\tfor j in i:\n",
    "\t\t\tcurrent_pathweight += graph[k][j]\n",
    "\t\t\tk = j\n",
    "\t\tcurrent_pathweight += graph[k][s]\n",
    "\n",
    "\t\t# update minimum\n",
    "\t\tmin_path = min(min_path, current_pathweight)\n",
    "\t\t\n",
    "\treturn min_path\n",
    "\n",
    "\n",
    "# Driver Code\n",
    "if __name__ == \"__main__\":\n",
    "\n",
    "\t# matrix representation of graph\n",
    "\tgraph = [[0, 10, 15, 20], [10, 0, 35, 25],\n",
    "\t\t\t[15, 35, 0, 30], [20, 25, 30, 0]]\n",
    "\ts = 0\n",
    "\tprint(travellingSalesmanProblem(graph, s))\n"
   ]
  },
  {
   "cell_type": "markdown",
   "id": "0d34784f",
   "metadata": {},
   "source": [
    "#                                          <center>EXPERIMENT-7</center>"
   ]
  },
  {
   "cell_type": "markdown",
   "id": "3ef47804",
   "metadata": {},
   "source": [
    "# Q7.Write a program to solve 8 queen problem.\n"
   ]
  },
  {
   "cell_type": "code",
   "execution_count": 7,
   "id": "02b2a07a",
   "metadata": {},
   "outputs": [
    {
     "name": "stdout",
     "output_type": "stream",
     "text": [
      "Enter the number of queens\n",
      "5\n",
      "[1, 0, 0, 0, 0]\n",
      "[0, 0, 1, 0, 0]\n",
      "[0, 0, 0, 0, 1]\n",
      "[0, 1, 0, 0, 0]\n",
      "[0, 0, 0, 1, 0]\n"
     ]
    }
   ],
   "source": [
    "# Taking number of queens as input from user\n",
    "print (\"Enter the number of queens\")\n",
    "N = int(input())\n",
    "# here we create a chessboard\n",
    "# NxN matrix with all elements set to 0\n",
    "board = [[0]*N for _ in range(N)]\n",
    "def attack(i, j):\n",
    "    #checking vertically and horizontally\n",
    "    for k in range(0,N):\n",
    "        if board[i][k]==1 or board[k][j]==1:\n",
    "            return True\n",
    "    #checking diagonally\n",
    "    for k in range(0,N):\n",
    "        for l in range(0,N):\n",
    "            if (k+l==i+j) or (k-l==i-j):\n",
    "                if board[k][l]==1:\n",
    "                    return True\n",
    "    return False\n",
    "def N_queens(n):\n",
    "    if n==0:\n",
    "        return True\n",
    "    for i in range(0,N):\n",
    "        for j in range(0,N):\n",
    "            if (not(attack(i,j))) and (board[i][j]!=1):\n",
    "                board[i][j] = 1\n",
    "                if N_queens(n-1)==True:\n",
    "                    return True\n",
    "                board[i][j] = 0\n",
    "    return False\n",
    "N_queens(N)\n",
    "for i in board:\n",
    "    print (i)\n"
   ]
  },
  {
   "cell_type": "markdown",
   "id": "2fd0f555",
   "metadata": {},
   "source": [
    "#                                          <center>EXPERIMENT-8</center>"
   ]
  },
  {
   "cell_type": "markdown",
   "id": "c680205c",
   "metadata": {},
   "source": [
    "# Q8.Write a program to implement Bayesian Network"
   ]
  },
  {
   "cell_type": "code",
   "execution_count": 8,
   "id": "0242dee1",
   "metadata": {},
   "outputs": [
    {
     "name": "stdout",
     "output_type": "stream",
     "text": [
      "Requirement already satisfied: pgmpy in /Users/chetnagupta/opt/anaconda3/lib/python3.9/site-packages (0.1.17)\n",
      "Requirement already satisfied: numpy in /Users/chetnagupta/opt/anaconda3/lib/python3.9/site-packages (from pgmpy) (1.20.3)\n",
      "Requirement already satisfied: pandas in /Users/chetnagupta/opt/anaconda3/lib/python3.9/site-packages (from pgmpy) (1.3.4)\n",
      "Requirement already satisfied: statsmodels in /Users/chetnagupta/opt/anaconda3/lib/python3.9/site-packages (from pgmpy) (0.12.2)\n",
      "Requirement already satisfied: joblib in /Users/chetnagupta/opt/anaconda3/lib/python3.9/site-packages (from pgmpy) (1.1.0)\n",
      "Requirement already satisfied: scikit-learn in /Users/chetnagupta/opt/anaconda3/lib/python3.9/site-packages (from pgmpy) (0.24.2)\n",
      "Requirement already satisfied: torch in /Users/chetnagupta/opt/anaconda3/lib/python3.9/site-packages (from pgmpy) (1.10.2)\n",
      "Requirement already satisfied: pyparsing in /Users/chetnagupta/opt/anaconda3/lib/python3.9/site-packages (from pgmpy) (3.0.4)\n",
      "Requirement already satisfied: scipy in /Users/chetnagupta/opt/anaconda3/lib/python3.9/site-packages (from pgmpy) (1.7.1)\n",
      "Requirement already satisfied: networkx in /Users/chetnagupta/opt/anaconda3/lib/python3.9/site-packages (from pgmpy) (2.6.3)\n",
      "Requirement already satisfied: tqdm in /Users/chetnagupta/opt/anaconda3/lib/python3.9/site-packages (from pgmpy) (4.62.3)\n",
      "Requirement already satisfied: python-dateutil>=2.7.3 in /Users/chetnagupta/opt/anaconda3/lib/python3.9/site-packages (from pandas->pgmpy) (2.8.2)\n",
      "Requirement already satisfied: pytz>=2017.3 in /Users/chetnagupta/opt/anaconda3/lib/python3.9/site-packages (from pandas->pgmpy) (2021.3)\n",
      "Requirement already satisfied: six>=1.5 in /Users/chetnagupta/opt/anaconda3/lib/python3.9/site-packages (from python-dateutil>=2.7.3->pandas->pgmpy) (1.16.0)\n",
      "Requirement already satisfied: threadpoolctl>=2.0.0 in /Users/chetnagupta/opt/anaconda3/lib/python3.9/site-packages (from scikit-learn->pgmpy) (2.2.0)\n",
      "Requirement already satisfied: patsy>=0.5 in /Users/chetnagupta/opt/anaconda3/lib/python3.9/site-packages (from statsmodels->pgmpy) (0.5.2)\n",
      "Requirement already satisfied: typing-extensions in /Users/chetnagupta/opt/anaconda3/lib/python3.9/site-packages (from torch->pgmpy) (3.10.0.2)\n"
     ]
    }
   ],
   "source": [
    "!pip install pgmpy"
   ]
  },
  {
   "cell_type": "code",
   "execution_count": 9,
   "id": "2db424c8",
   "metadata": {},
   "outputs": [
    {
     "name": "stderr",
     "output_type": "stream",
     "text": [
      "/Users/chetnagupta/opt/anaconda3/envs/tensorflow/lib/python3.7/site-packages/tqdm/auto.py:22: TqdmWarning: IProgress not found. Please update jupyter and ipywidgets. See https://ipywidgets.readthedocs.io/en/stable/user_install.html\n",
      "  from .autonotebook import tqdm as notebook_tqdm\n",
      "/Users/chetnagupta/opt/anaconda3/envs/tensorflow/lib/python3.7/site-packages/pgmpy/factors/discrete/DiscreteFactor.py:522: UserWarning: Found unknown state name. Trying to switch to using all state names as state numbers\n",
      "  \"Found unknown state name. Trying to switch to using all state names as state numbers\"\n",
      "Finding Elimination Order: : 100%|██████████████| 2/2 [00:00<00:00, 3609.56it/s]\n",
      "Eliminating: C: 100%|███████████████████████████| 2/2 [00:00<00:00, 1332.37it/s]"
     ]
    },
    {
     "name": "stdout",
     "output_type": "stream",
     "text": [
      "+-----------+---------------+\n",
      "| RESULT    |   phi(RESULT) |\n",
      "+===========+===============+\n",
      "| RESULT(0) |        0.5387 |\n",
      "+-----------+---------------+\n",
      "| RESULT(1) |        0.1824 |\n",
      "+-----------+---------------+\n",
      "| RESULT(2) |        0.1196 |\n",
      "+-----------+---------------+\n",
      "| RESULT(3) |        0.1161 |\n",
      "+-----------+---------------+\n",
      "| RESULT(4) |        0.0433 |\n",
      "+-----------+---------------+\n"
     ]
    },
    {
     "name": "stderr",
     "output_type": "stream",
     "text": [
      "\n"
     ]
    }
   ],
   "source": [
    "import pandas as pd\n",
    "from urllib.request import urlopen\n",
    "from pgmpy.models import BayesianModel\n",
    "\n",
    "names=\"A,B,C,D,E,F,G,H,I,J,K,L,M,RESULT\"\n",
    "names=names.split(\",\")\n",
    "# len(names)\n",
    "\n",
    "data=pd.read_csv(urlopen(\"http://bit.do/heart-disease\"),names=names)\n",
    "# data.head()\n",
    "\n",
    "model=BayesianModel([(\"A\",\"B\"),(\"B\",\"C\"),(\"C\",\"RESULT\")])\n",
    "model.fit(data)\n",
    "\n",
    "from pgmpy.inference import VariableElimination\n",
    "infer=VariableElimination(model)\n",
    "q=infer.query(variables=[\"RESULT\"],evidence={\"A\":22})\n",
    "\n",
    "print(q)"
   ]
  },
  {
   "cell_type": "markdown",
   "id": "b899d66d",
   "metadata": {},
   "source": [
    "# <center>EXPERIMENT-9</center>"
   ]
  },
  {
   "cell_type": "markdown",
   "id": "4c741f39",
   "metadata": {},
   "source": [
    "# Q9.Write a program to implement Linear and Logistic regression.\n"
   ]
  },
  {
   "cell_type": "markdown",
   "id": "7cf91e32",
   "metadata": {},
   "source": [
    "LINEAR REGRESSION"
   ]
  },
  {
   "cell_type": "code",
   "execution_count": 10,
   "id": "67b7a056",
   "metadata": {},
   "outputs": [
    {
     "name": "stdout",
     "output_type": "stream",
     "text": [
      "Estimated coefficients:\n",
      "b_0 = 1.2363636363636363 \t\t\n",
      "b_1 = 1.1696969696969697\n"
     ]
    },
    {
     "data": {
      "image/png": "[encoded data removed]",
      "text/plain": [
       "<Figure size 432x288 with 1 Axes>"
      ]
     },
     "metadata": {
      "needs_background": "light"
     },
     "output_type": "display_data"
    }
   ],
   "source": [
    "import numpy as np\n",
    "import matplotlib.pyplot as plt\n",
    "\n",
    "def estimate_coef(x, y):\n",
    "\t# number of observations/points\n",
    "\tn = np.size(x)\n",
    "\n",
    "\t# mean of x and y vector\n",
    "\tm_x = np.mean(x)\n",
    "\tm_y = np.mean(y)\n",
    "\n",
    "\t# calculating cross-deviation and deviation about x\n",
    "\tSS_xy = np.sum(y*x) - n*m_y*m_x\n",
    "\tSS_xx = np.sum(x*x) - n*m_x*m_x\n",
    "\n",
    "\t# calculating regression coefficients\n",
    "\tb_1 = SS_xy / SS_xx\n",
    "\tb_0 = m_y - b_1*m_x\n",
    "\n",
    "\treturn (b_0, b_1)\n",
    "\n",
    "def plot_regression_line(x, y, b):\n",
    "\t# plotting the actual points as scatter plot\n",
    "\tplt.scatter(x, y, color = \"m\",\n",
    "\t\t\tmarker = \"o\", s = 30)\n",
    "\n",
    "\t# predicted response vector\n",
    "\ty_pred = b[0] + b[1]*x\n",
    "\n",
    "\t# plotting the regression line\n",
    "\tplt.plot(x, y_pred, color = \"g\")\n",
    "\n",
    "\t# putting labels\n",
    "\tplt.xlabel('x')\n",
    "\tplt.ylabel('y')\n",
    "\n",
    "\t# function to show plot\n",
    "\tplt.show()\n",
    "\n",
    "def main():\n",
    "\t# observations / data\n",
    "\tx = np.array([0, 1, 2, 3, 4, 5, 6, 7, 8, 9])\n",
    "\ty = np.array([1, 3, 2, 5, 7, 8, 8, 9, 10, 12])\n",
    "\n",
    "\t# estimating coefficients\n",
    "\tb = estimate_coef(x, y)\n",
    "\tprint(\"Estimated coefficients:\\nb_0 = {} \\\n",
    "\t\t\\nb_1 = {}\".format(b[0], b[1]))\n",
    "\n",
    "\t# plotting regression line\n",
    "\tplot_regression_line(x, y, b)\n",
    "\n",
    "if __name__ == \"__main__\":\n",
    "\tmain()\n"
   ]
  },
  {
   "cell_type": "markdown",
   "id": "e7cddaa6",
   "metadata": {},
   "source": [
    "LOGISTIC REGRESSION"
   ]
  },
  {
   "cell_type": "code",
   "execution_count": 11,
   "id": "e54fd14e",
   "metadata": {},
   "outputs": [
    {
     "name": "stderr",
     "output_type": "stream",
     "text": [
      "/Users/chetnagupta/opt/anaconda3/envs/tensorflow/lib/python3.7/site-packages/seaborn/distributions.py:2619: FutureWarning: `distplot` is a deprecated function and will be removed in a future version. Please adapt your code to use either `displot` (a figure-level function with similar flexibility) or `kdeplot` (an axes-level function for kernel density plots).\n",
      "  warnings.warn(msg, FutureWarning)\n"
     ]
    },
    {
     "data": {
      "text/plain": [
       "<function matplotlib.pyplot.show(close=None, block=None)>"
      ]
     },
     "execution_count": 11,
     "metadata": {},
     "output_type": "execute_result"
    },
    {
     "data": {
      "image/png": "[encoded data removed]",
      "text/plain": [
       "<Figure size 432x288 with 1 Axes>"
      ]
     },
     "metadata": {
      "needs_background": "light"
     },
     "output_type": "display_data"
    }
   ],
   "source": [
    "from numpy import random\n",
    "import matplotlib.pyplot as plt\n",
    "import seaborn as sns\n",
    "\n",
    "sns.distplot(random.logistic(size=1000),hist=False)\n",
    "\n",
    "plt.show"
   ]
  },
  {
   "cell_type": "markdown",
   "id": "3f8cf269",
   "metadata": {},
   "source": [
    "#                                          <center>EXPERIMENT-10</center>"
   ]
  },
  {
   "cell_type": "markdown",
   "id": "c9be8269",
   "metadata": {},
   "source": [
    "# Q10.Write a program to implement Tic-Tac-Toe using python.\n"
   ]
  },
  {
   "cell_type": "code",
   "execution_count": 12,
   "id": "f09fa30e",
   "metadata": {},
   "outputs": [
    {
     "name": "stdout",
     "output_type": "stream",
     "text": [
      "[[0 0 0]\n",
      " [0 0 0]\n",
      " [0 0 0]]\n",
      "Board after 1 move\n",
      "[[0 1 0]\n",
      " [0 0 0]\n",
      " [0 0 0]]\n",
      "Board after 2 move\n",
      "[[2 1 0]\n",
      " [0 0 0]\n",
      " [0 0 0]]\n",
      "Board after 3 move\n",
      "[[2 1 0]\n",
      " [0 0 0]\n",
      " [1 0 0]]\n",
      "Board after 4 move\n",
      "[[2 1 0]\n",
      " [0 0 2]\n",
      " [1 0 0]]\n",
      "Board after 5 move\n",
      "[[2 1 0]\n",
      " [0 1 2]\n",
      " [1 0 0]]\n",
      "Board after 6 move\n",
      "[[2 1 0]\n",
      " [0 1 2]\n",
      " [1 0 2]]\n",
      "Board after 7 move\n",
      "[[2 1 0]\n",
      " [1 1 2]\n",
      " [1 0 2]]\n",
      "Board after 8 move\n",
      "[[2 1 2]\n",
      " [1 1 2]\n",
      " [1 0 2]]\n",
      "Winner is: 2\n"
     ]
    }
   ],
   "source": [
    "# Tic-Tac-Toe Program using\n",
    "# random number in Python\n",
    "\n",
    "# importing all necessary libraries\n",
    "import numpy as np\n",
    "import random\n",
    "from time import sleep\n",
    "\n",
    "# Creates an empty board\n",
    "def create_board():\n",
    "\treturn(np.array([[0, 0, 0],\n",
    "\t\t\t\t\t[0, 0, 0],\n",
    "\t\t\t\t\t[0, 0, 0]]))\n",
    "\n",
    "# Check for empty places on board\n",
    "def possibilities(board):\n",
    "\tl = []\n",
    "\t\n",
    "\tfor i in range(len(board)):\n",
    "\t\tfor j in range(len(board)):\n",
    "\t\t\t\n",
    "\t\t\tif board[i][j] == 0:\n",
    "\t\t\t\tl.append((i, j))\n",
    "\treturn(l)\n",
    "\n",
    "# Select a random place for the player\n",
    "def random_place(board, player):\n",
    "\tselection = possibilities(board)\n",
    "\tcurrent_loc = random.choice(selection)\n",
    "\tboard[current_loc] = player\n",
    "\treturn(board)\n",
    "\n",
    "# Checks whether the player has three\n",
    "# of their marks in a horizontal row\n",
    "def row_win(board, player):\n",
    "\tfor x in range(len(board)):\n",
    "\t\twin = True\n",
    "\t\t\n",
    "\t\tfor y in range(len(board)):\n",
    "\t\t\tif board[x, y] != player:\n",
    "\t\t\t\twin = False\n",
    "\t\t\t\tcontinue\n",
    "\t\t\t\t\n",
    "\t\tif win == True:\n",
    "\t\t\treturn(win)\n",
    "\treturn(win)\n",
    "\n",
    "# Checks whether the player has three\n",
    "# of their marks in a vertical row\n",
    "def col_win(board, player):\n",
    "\tfor x in range(len(board)):\n",
    "\t\twin = True\n",
    "\t\t\n",
    "\t\tfor y in range(len(board)):\n",
    "\t\t\tif board[y][x] != player:\n",
    "\t\t\t\twin = False\n",
    "\t\t\t\tcontinue\n",
    "\t\t\t\t\n",
    "\t\tif win == True:\n",
    "\t\t\treturn(win)\n",
    "\treturn(win)\n",
    "\n",
    "# Checks whether the player has three\n",
    "# of their marks in a diagonal row\n",
    "def diag_win(board, player):\n",
    "\twin = True\n",
    "\ty = 0\n",
    "\tfor x in range(len(board)):\n",
    "\t\tif board[x, x] != player:\n",
    "\t\t\twin = False\n",
    "\tif win:\n",
    "\t\treturn win\n",
    "\twin = True\n",
    "\tif win:\n",
    "\t\tfor x in range(len(board)):\n",
    "\t\t\ty = len(board) - 1 - x\n",
    "\t\t\tif board[x, y] != player:\n",
    "\t\t\t\twin = False\n",
    "\treturn win\n",
    "\n",
    "# Evaluates whether there is\n",
    "# a winner or a tie\n",
    "def evaluate(board):\n",
    "\twinner = 0\n",
    "\t\n",
    "\tfor player in [1, 2]:\n",
    "\t\tif (row_win(board, player) or\n",
    "\t\t\tcol_win(board,player) or\n",
    "\t\t\tdiag_win(board,player)):\n",
    "\t\t\t\t\n",
    "\t\t\twinner = player\n",
    "\t\t\t\n",
    "\tif np.all(board != 0) and winner == 0:\n",
    "\t\twinner = -1\n",
    "\treturn winner\n",
    "\n",
    "# Main function to start the game\n",
    "def play_game():\n",
    "\tboard, winner, counter = create_board(), 0, 1\n",
    "\tprint(board)\n",
    "\tsleep(2)\n",
    "\t\n",
    "\twhile winner == 0:\n",
    "\t\tfor player in [1, 2]:\n",
    "\t\t\tboard = random_place(board, player)\n",
    "\t\t\tprint(\"Board after \" + str(counter) + \" move\")\n",
    "\t\t\tprint(board)\n",
    "\t\t\tsleep(2)\n",
    "\t\t\tcounter += 1\n",
    "\t\t\twinner = evaluate(board)\n",
    "\t\t\tif winner != 0:\n",
    "\t\t\t\tbreak\n",
    "\treturn(winner)\n",
    "\n",
    "# Driver Code\n",
    "print(\"Winner is: \" + str(play_game()))\n"
   ]
  },
  {
   "cell_type": "code",
   "execution_count": null,
   "id": "0111749e",
   "metadata": {},
   "outputs": [],
   "source": []
  }
 ],
 "metadata": {
  "kernelspec": {
   "display_name": "Python 3 (ipykernel)",
   "language": "python",
   "name": "python3"
  },
  "language_info": {
   "codemirror_mode": {
    "name": "ipython",
    "version": 3
   },
   "file_extension": ".py",
   "mimetype": "text/x-python",
   "name": "python",
   "nbconvert_exporter": "python",
   "pygments_lexer": "ipython3",
   "version": "3.9.7"
  }
 },
 "nbformat": 4,
 "nbformat_minor": 5
}
